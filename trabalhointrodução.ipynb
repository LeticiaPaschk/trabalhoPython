#negativo

#img_negative[ : , : ,0] = 255 - img[ : , : ,0]
#img_negative[ : , : ,1] = 255 - img[ : , : ,1]
#img_negative[ : , : ,2] = 255 - img[ : , : ,2]

#img_in = cv2.imread('data/Fig0304(a)(breast_digital_Xray).tif',1)
img_in = cv2.imread('data/t1.jpg',0)

img_out = 255 - img_in

cv2_imshow(img_in)
cv2_imshow(img_out)
'''
cv2_imshow('in', img_in)
cv2.waitKey(0)
cv2.imshow('out', img_out)
cv2.waitKey(0)
cv2.destroyAllWindows()
'''

O código é utilizado para torna a imagem em negativo, utilizando cv2, é possivel mudar a imagem mexendo em seu contraste, brilho e cor, fazendo com que ela fique negativa.
Primeiro é mudada a cor para preto, dps com algumas mexidas na iluminação e contraste, a imagem fica ''negativa''
